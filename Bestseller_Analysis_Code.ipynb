{
 "cells": [
  {
   "cell_type": "code",
   "execution_count": 42,
   "metadata": {},
   "outputs": [],
   "source": [
    "# import modules\n",
    "import numpy as np\n",
    "import pandas as pd\n",
    "import matplotlib.pyplot as plt\n",
    "import seaborn as sns\n",
    "import scipy.stats as stats\n",
    "import scipy.special as special\n",
    "import time as time\n",
    "import datetime as dt\n",
    "import os\n",
    "\n",
    "from bs4 import BeautifulSoup\n",
    "import requests "
   ]
  },
  {
   "cell_type": "code",
   "execution_count": 3,
   "metadata": {},
   "outputs": [],
   "source": [
    "# get bestseller links\n",
    "url = 'http://www.yes24.com/24/Category/BestSeller' \n",
    "result = requests.get(url)\n",
    "raw_html = BeautifulSoup(result.text, 'html.parser')\n",
    "\n",
    "a_html = raw_html.find('ol')\n",
    "list_bestseller_data = a_html.find_all('p', class_='copy')\n",
    "\n",
    "bestseller_urls = [] \n",
    "for i in list_bestseller_data:\n",
    "    urls_in_html = i.find('a')\n",
    "    bestseller_urls.append('http://www.yes24.com/' + urls_in_html.get('href'))"
   ]
  },
  {
   "cell_type": "code",
   "execution_count": 4,
   "metadata": {},
   "outputs": [],
   "source": [
    "# set frame for data\n",
    "data = []\n",
    "\n",
    "# get data for each best seller, create 2D array\n",
    "for url in bestseller_urls: \n",
    "    result = requests.get(url) # get html\n",
    "    raw_html = BeautifulSoup(result.text, 'html.parser')\n",
    "\n",
    "    title = raw_html.find(name='h2', class_='gd_name').string\n",
    "\n",
    "    author_wrapper = raw_html.find(name='span', class_='gd_auth')\n",
    "    author = author_wrapper.find('a').string\n",
    "\n",
    "    publisher_wrapper = raw_html.find(name='span', class_='gd_pub')\n",
    "    publisher = publisher_wrapper.find('a').string\n",
    "\n",
    "    published_date_str = raw_html.find(name='span', class_='gd_date').string\n",
    "    published_date_num = published_date_str.translate({ord(i): None for i in '월년일'})\n",
    "\n",
    "    origin_wrapper = raw_html.find(name='span', class_='gd_orgin')\n",
    "    if origin_wrapper != None:\n",
    "        origin_wrapper = origin_wrapper.find('a').string\n",
    "\n",
    "    review_score = raw_html.find(name='em', class_='yes_b').string\n",
    "    review_number = raw_html.find(name='em', class_='txC_blue').string\n",
    "\n",
    "    fixed_price = raw_html.find_all(name='em', class_='yes_m')[0]\n",
    "    fixed_price = fixed_price.string\n",
    "    selling_price = raw_html.find_all(name='em', class_='yes_m')[1]\n",
    "    selling_price = selling_price.string\n",
    "\n",
    "    ISBN13_parent_html = raw_html.find(name='th', class_='txt', string='ISBN13').parent\n",
    "    ISBN13 = ISBN13_parent_html.find(name='td', class_='txt lastCol').string\n",
    "\n",
    "    ISBN10_parent_html = raw_html.find(name='th', class_='txt', string='ISBN10').parent\n",
    "    ISBN10 = ISBN10_parent_html.find(name='td', class_='txt lastCol').string\n",
    "\n",
    "    yes24_sales_text = raw_html.find(name ='span', class_='gd_sellNum')\n",
    "    yes24_sales_text = yes24_sales_text.text\n",
    "    yes24_sales_index = ''\n",
    "    for i in yes24_sales_text:\n",
    "        if i.isnumeric() == True:\n",
    "            yes24_sales_index = yes24_sales_index + i\n",
    "\n",
    "    genre_list = raw_html.find(name='em', class_='bl_dot bgYUI').parent\n",
    "    final_genre_name = genre_list.find_all('a')[-1].string\n",
    "\n",
    "    total_data = [title, author, publisher, published_date_num, origin_wrapper, review_score, review_number, fixed_price, selling_price, ISBN13, ISBN10, yes24_sales_index, final_genre_name]\n",
    "    data.append(total_data)"
   ]
  },
  {
   "cell_type": "code",
   "execution_count": 5,
   "metadata": {},
   "outputs": [],
   "source": [
    "# create dataframe with values\n",
    "columns=['Title', 'Author', 'Publisher', 'Published_date', 'Origin', 'Review_score', 'Review_number', 'Fixed_price', 'Selling_price', 'ISBN13', 'ISBN10', 'Yes24_sales_index', 'Final_genre_name']\n",
    "number_bestsellers = len(bestseller_urls)\n",
    "rank = np.arange(1,number_bestsellers+1)\n",
    "bestseller_df = pd.DataFrame(data=data, index=rank, columns=columns)\n",
    "bestseller_df['Published_date'] = pd.to_datetime(bestseller_df['Published_date'], format='%Y %m %d')"
   ]
  },
  {
   "cell_type": "code",
   "execution_count": 6,
   "metadata": {},
   "outputs": [],
   "source": [
    "bestseller_df.to_csv('bestseller.csv', encoding='CP949')"
   ]
  },
  {
   "cell_type": "code",
   "execution_count": 14,
   "metadata": {},
   "outputs": [],
   "source": [
    "# Get excel file from Aladin, 데이트 타임 활용하기\n",
    "Aladin_URL = 'https://www.aladin.co.kr/shop/common/wbest_excel.aspx?BestType=Bestseller&BranchType=1&CID=0&Year=2023&Month=2&Week=3' # 링크가 매주 바뀜 \n",
    "\n",
    "req = requests.get(Aladin_URL) # 200이면 온라인\n",
    "\n",
    "Aladin_excel_name = '알라딘_주간+베스트_국내도서.csv' # 일반화 & edit later \n",
    "\n",
    "with open(Aladin_excel_name, 'wb') as f: # write, binary, with 사용해서 효율적\n",
    "    for chunk in req.iter_content(chunk_size=9000): # 실제로 파일을 열어서 작성\n",
    "        if chunk:\n",
    "            f.write(chunk)"
   ]
  },
  {
   "cell_type": "code",
   "execution_count": 48,
   "metadata": {},
   "outputs": [],
   "source": [
    "from selenium import webdriver\n",
    "from selenium.webdriver import ActionChains\n",
    "from selenium.webdriver.common.keys import Keys\n",
    "from selenium.webdriver.common.by import By\n",
    "from selenium.webdriver.support import expected_conditions as EC\n",
    "from selenium.webdriver.support.ui import Select\n",
    "from selenium.webdriver.support.ui import WebDriverWait\n",
    "from selenium.webdriver.chrome.options import Options\n",
    "from selenium.webdriver.chrome.service import Service\n",
    "from webdriver_manager.chrome import ChromeDriverManager"
   ]
  },
  {
   "cell_type": "code",
   "execution_count": 70,
   "metadata": {},
   "outputs": [
    {
     "ename": "PermissionError",
     "evalue": "[Errno 13] Permission denied: 'H:\\\\내 드라이브\\\\연세대학교\\\\3학년 2022 겨울 계절\\\\파이썬_통계_공부하기\\\\Analyze_Bestseller_Project\\\\교보문고_온라인_베스트셀러_상품리스트.csv'",
     "output_type": "error",
     "traceback": [
      "\u001b[1;31m---------------------------------------------------------------------------\u001b[0m",
      "\u001b[1;31mOSError\u001b[0m                                   Traceback (most recent call last)",
      "File \u001b[1;32mc:\\Users\\seohy\\AppData\\Local\\Programs\\Python\\Python311\\Lib\\shutil.py:825\u001b[0m, in \u001b[0;36mmove\u001b[1;34m(src, dst, copy_function)\u001b[0m\n\u001b[0;32m    824\u001b[0m \u001b[39mtry\u001b[39;00m:\n\u001b[1;32m--> 825\u001b[0m     os\u001b[39m.\u001b[39;49mrename(src, real_dst)\n\u001b[0;32m    826\u001b[0m \u001b[39mexcept\u001b[39;00m \u001b[39mOSError\u001b[39;00m:\n",
      "\u001b[1;31mOSError\u001b[0m: [WinError 17] 시스템은 파일을 다른 디스크 드라이브로 옮길 수 없습니다: 'C:\\\\Users\\\\seohy\\\\Downloads\\\\교보문고_온라인_베스트셀러_상품리스트.xlsx' -> 'H:\\\\내 드라이브\\\\연세대학교\\\\3학년 2022 겨울 계절\\\\파이썬_통계_공부하기\\\\Analyze_Bestseller_Project\\\\교보문고_온라인_베스트셀러_상품리스트.csv'",
      "\nDuring handling of the above exception, another exception occurred:\n",
      "\u001b[1;31mPermissionError\u001b[0m                           Traceback (most recent call last)",
      "Cell \u001b[1;32mIn[70], line 18\u001b[0m\n\u001b[0;32m     14\u001b[0m time\u001b[39m.\u001b[39msleep(\u001b[39m10\u001b[39m)\n\u001b[0;32m     16\u001b[0m driver\u001b[39m.\u001b[39mclose()\n\u001b[1;32m---> 18\u001b[0m shutil\u001b[39m.\u001b[39;49mmove(\u001b[39mr\u001b[39;49m\u001b[39m'\u001b[39;49m\u001b[39mC:\u001b[39;49m\u001b[39m\\\u001b[39;49m\u001b[39mUsers\u001b[39;49m\u001b[39m\\\u001b[39;49m\u001b[39mseohy\u001b[39;49m\u001b[39m\\\u001b[39;49m\u001b[39mDownloads\u001b[39;49m\u001b[39m\\\u001b[39;49m\u001b[39m교보문고_온라인_베스트셀러_상품리스트.xlsx\u001b[39;49m\u001b[39m'\u001b[39;49m, \u001b[39mr\u001b[39;49m\u001b[39m'\u001b[39;49m\u001b[39mH:\u001b[39;49m\u001b[39m\\\u001b[39;49m\u001b[39m내 드라이브\u001b[39;49m\u001b[39m\\\u001b[39;49m\u001b[39m연세대학교\u001b[39;49m\u001b[39m\\\u001b[39;49m\u001b[39m3학년 2022 겨울 계절\u001b[39;49m\u001b[39m\\\u001b[39;49m\u001b[39m파이썬_통계_공부하기\u001b[39;49m\u001b[39m\\\u001b[39;49m\u001b[39mAnalyze_Bestseller_Project\u001b[39;49m\u001b[39m\\\u001b[39;49m\u001b[39m교보문고_온라인_베스트셀러_상품리스트.csv\u001b[39;49m\u001b[39m'\u001b[39;49m) \u001b[39m# 파일 이름에 날짜 붙이기\u001b[39;00m\n\u001b[0;32m     20\u001b[0m Kyobo_dataframe \u001b[39m=\u001b[39m pd\u001b[39m.\u001b[39mread_csv(\u001b[39mr\u001b[39m\u001b[39m'\u001b[39m\u001b[39mH:\u001b[39m\u001b[39m\\\u001b[39m\u001b[39m내 드라이브\u001b[39m\u001b[39m\\\u001b[39m\u001b[39m연세대학교\u001b[39m\u001b[39m\\\u001b[39m\u001b[39m3학년 2022 겨울 계절\u001b[39m\u001b[39m\\\u001b[39m\u001b[39m파이썬_통계_공부하기\u001b[39m\u001b[39m\\\u001b[39m\u001b[39mAnalyze_Bestseller_Project\u001b[39m\u001b[39m\\\u001b[39m\u001b[39m교보문고_온라인_베스트셀러_상품리스트.csv\u001b[39m\u001b[39m'\u001b[39m, encoding\u001b[39m=\u001b[39m \u001b[39m'\u001b[39m\u001b[39municode_escape\u001b[39m\u001b[39m'\u001b[39m)\n\u001b[0;32m     22\u001b[0m Kyobo_dataframe\n",
      "File \u001b[1;32mc:\\Users\\seohy\\AppData\\Local\\Programs\\Python\\Python311\\Lib\\shutil.py:845\u001b[0m, in \u001b[0;36mmove\u001b[1;34m(src, dst, copy_function)\u001b[0m\n\u001b[0;32m    843\u001b[0m         rmtree(src)\n\u001b[0;32m    844\u001b[0m     \u001b[39melse\u001b[39;00m:\n\u001b[1;32m--> 845\u001b[0m         copy_function(src, real_dst)\n\u001b[0;32m    846\u001b[0m         os\u001b[39m.\u001b[39munlink(src)\n\u001b[0;32m    847\u001b[0m \u001b[39mreturn\u001b[39;00m real_dst\n",
      "File \u001b[1;32mc:\\Users\\seohy\\AppData\\Local\\Programs\\Python\\Python311\\Lib\\shutil.py:436\u001b[0m, in \u001b[0;36mcopy2\u001b[1;34m(src, dst, follow_symlinks)\u001b[0m\n\u001b[0;32m    434\u001b[0m \u001b[39mif\u001b[39;00m os\u001b[39m.\u001b[39mpath\u001b[39m.\u001b[39misdir(dst):\n\u001b[0;32m    435\u001b[0m     dst \u001b[39m=\u001b[39m os\u001b[39m.\u001b[39mpath\u001b[39m.\u001b[39mjoin(dst, os\u001b[39m.\u001b[39mpath\u001b[39m.\u001b[39mbasename(src))\n\u001b[1;32m--> 436\u001b[0m copyfile(src, dst, follow_symlinks\u001b[39m=\u001b[39;49mfollow_symlinks)\n\u001b[0;32m    437\u001b[0m copystat(src, dst, follow_symlinks\u001b[39m=\u001b[39mfollow_symlinks)\n\u001b[0;32m    438\u001b[0m \u001b[39mreturn\u001b[39;00m dst\n",
      "File \u001b[1;32mc:\\Users\\seohy\\AppData\\Local\\Programs\\Python\\Python311\\Lib\\shutil.py:258\u001b[0m, in \u001b[0;36mcopyfile\u001b[1;34m(src, dst, follow_symlinks)\u001b[0m\n\u001b[0;32m    256\u001b[0m \u001b[39mwith\u001b[39;00m \u001b[39mopen\u001b[39m(src, \u001b[39m'\u001b[39m\u001b[39mrb\u001b[39m\u001b[39m'\u001b[39m) \u001b[39mas\u001b[39;00m fsrc:\n\u001b[0;32m    257\u001b[0m     \u001b[39mtry\u001b[39;00m:\n\u001b[1;32m--> 258\u001b[0m         \u001b[39mwith\u001b[39;00m \u001b[39mopen\u001b[39m(dst, \u001b[39m'\u001b[39m\u001b[39mwb\u001b[39m\u001b[39m'\u001b[39m) \u001b[39mas\u001b[39;00m fdst:\n\u001b[0;32m    259\u001b[0m             \u001b[39m# macOS\u001b[39;00m\n\u001b[0;32m    260\u001b[0m             \u001b[39mif\u001b[39;00m _HAS_FCOPYFILE:\n\u001b[0;32m    261\u001b[0m                 \u001b[39mtry\u001b[39;00m:\n",
      "\u001b[1;31mPermissionError\u001b[0m: [Errno 13] Permission denied: 'H:\\\\내 드라이브\\\\연세대학교\\\\3학년 2022 겨울 계절\\\\파이썬_통계_공부하기\\\\Analyze_Bestseller_Project\\\\교보문고_온라인_베스트셀러_상품리스트.csv'"
     ]
    }
   ],
   "source": [
    "# Get excel file from Kyobobook with Selenium\n",
    "import shutil\n",
    "\n",
    "Kyobo_URL = \"https://product.kyobobook.co.kr/bestseller/online?period=001#?page=1&per=20&ymw=&period=001&saleCmdtClstCode=&dsplDvsnCode=000&dsplTrgtDvsnCode=001&saleCmdtDsplDvsnCode=\"\n",
    "\n",
    "driver = webdriver.Chrome(service=Service(ChromeDriverManager().install())) # headless 해결해보기\n",
    "\n",
    "driver.get(url=Kyobo_URL)\n",
    "driver.implicitly_wait(time_to_wait=3)\n",
    "\n",
    "download_excel_button = driver.find_element(By.XPATH, '//*[@id=\"excel_btn\"]')\n",
    "download_excel_button.click() \n",
    "\n",
    "time.sleep(10)\n",
    "\n",
    "driver.close()\n",
    "\n",
    "shutil.move(r'C:\\Users\\seohy\\Downloads\\교보문고_온라인_베스트셀러_상품리스트.xlsx', r'H:\\내 드라이브\\연세대학교\\3학년 2022 겨울 계절\\파이썬_통계_공부하기\\Analyze_Bestseller_Project\\교보문고_온라인_베스트셀러_상품리스트.csv') # 파일 이름에 날짜 붙이기"
   ]
  }
 ],
 "metadata": {
  "kernelspec": {
   "display_name": "Python 3",
   "language": "python",
   "name": "python3"
  },
  "language_info": {
   "codemirror_mode": {
    "name": "ipython",
    "version": 3
   },
   "file_extension": ".py",
   "mimetype": "text/x-python",
   "name": "python",
   "nbconvert_exporter": "python",
   "pygments_lexer": "ipython3",
   "version": "3.11.1"
  },
  "orig_nbformat": 4,
  "vscode": {
   "interpreter": {
    "hash": "3c4f1d380ec591ab9e44a7425913f70353e8b23ef4962a1509ad81b6808d322a"
   }
  }
 },
 "nbformat": 4,
 "nbformat_minor": 2
}
