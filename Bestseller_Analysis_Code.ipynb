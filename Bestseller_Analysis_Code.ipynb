{
 "cells": [
  {
   "cell_type": "code",
   "execution_count": 12,
   "metadata": {},
   "outputs": [],
   "source": [
    "# import modules\n",
    "import numpy as np\n",
    "import pandas as pd\n",
    "import matplotlib.pyplot as plt\n",
    "import seaborn as sns\n",
    "import scipy.stats as stats\n",
    "import scipy.special as special\n",
    "import time as time\n",
    "import datetime as dt\n",
    "\n",
    "from bs4 import BeautifulSoup\n",
    "import requests\n",
    "import re"
   ]
  },
  {
   "cell_type": "code",
   "execution_count": 13,
   "metadata": {},
   "outputs": [],
   "source": [
    "# get bestseller links\n",
    "url = 'http://www.yes24.com/24/Category/BestSeller' \n",
    "result = requests.get(url)\n",
    "raw_html = BeautifulSoup(result.text, 'html.parser')\n",
    "\n",
    "a_html = raw_html.find('ol')\n",
    "list_bestseller_data = a_html.find_all('p', class_='copy')\n",
    "\n",
    "bestseller_urls = [] \n",
    "for i in list_bestseller_data:\n",
    "    urls_in_html = i.find('a')\n",
    "    bestseller_urls.append('http://www.yes24.com/' + urls_in_html.get('href'))"
   ]
  },
  {
   "cell_type": "code",
   "execution_count": 14,
   "metadata": {},
   "outputs": [],
   "source": [
    "# set frame for data\n",
    "data = []\n",
    "\n",
    "# get data for each best seller, create 2D array\n",
    "for url in bestseller_urls: \n",
    "    result = requests.get(url) # get html\n",
    "    raw_html = BeautifulSoup(result.text, 'html.parser')\n",
    "\n",
    "    title = raw_html.find(name='h2', class_='gd_name').string\n",
    "\n",
    "    author_wrapper = raw_html.find(name='span', class_='gd_auth')\n",
    "    author = author_wrapper.find('a').string\n",
    "\n",
    "    publisher_wrapper = raw_html.find(name='span', class_='gd_pub')\n",
    "    publisher = publisher_wrapper.find('a').string\n",
    "\n",
    "    published_date_str = raw_html.find(name='span', class_='gd_date').string\n",
    "    published_date_num = published_date_str.translate({ord(i): None for i in '월년일'})\n",
    "\n",
    "    origin_wrapper = raw_html.find(name='span', class_='gd_orgin')\n",
    "    if origin_wrapper != None:\n",
    "        origin = origin_wrapper.find('a').string\n",
    "\n",
    "    review_score = raw_html.find(name='em', class_='yes_b').string\n",
    "    review_number = raw_html.find(name='em', class_='txC_blue').string\n",
    "\n",
    "    fixed_price = raw_html.find_all(name='em', class_='yes_m')[0]\n",
    "    fixed_price = fixed_price.string\n",
    "    selling_price = raw_html.find_all(name='em', class_='yes_m')[1]\n",
    "    selling_price = selling_price.string\n",
    "\n",
    "    ISBN13_parent_html = raw_html.find(name='th', class_='txt', string='ISBN13').parent\n",
    "    ISBN13 = ISBN13_parent_html.find(name='td', class_='txt lastCol').string\n",
    "\n",
    "    ISBN10_parent_html = raw_html.find(name='th', class_='txt', string='ISBN10').parent\n",
    "    ISBN10 = ISBN10_parent_html.find(name='td', class_='txt lastCol').string\n",
    "\n",
    "    yes24_sales_text = raw_html.find(name ='span', class_='gd_sellNum')\n",
    "    yes24_sales_text = yes24_sales_text.text\n",
    "    yes24_sales_index = ''\n",
    "    for i in yes24_sales_text:\n",
    "        if i.isnumeric() == True:\n",
    "            yes24_sales_index = yes24_sales_index + i\n",
    "\n",
    "    genre_list = raw_html.find(name='em', class_='bl_dot bgYUI').parent\n",
    "    final_genre_name = genre_list.find_all('a')[-1].string\n",
    "\n",
    "    total_data = [title, author, publisher, published_date_num, origin, review_score, review_number, fixed_price, selling_price, ISBN13, ISBN10, yes24_sales_index, final_genre_name]\n",
    "    data.append(total_data)"
   ]
  },
  {
   "cell_type": "code",
   "execution_count": 15,
   "metadata": {},
   "outputs": [],
   "source": [
    "# create dataframe with values\n",
    "columns=['Title', 'Author', 'Publisher', 'Published_date', 'Origin', 'Review_score', 'Review_number', 'Fixed_price', 'Selling_price', 'ISBN13', 'ISBN10', 'Yes24_sales_index', 'Final_genre_name']\n",
    "number_bestsellers = len(bestseller_urls)\n",
    "rank = np.arange(1,number_bestsellers+1)\n",
    "bestseller_df = pd.DataFrame(data=data, index=rank, columns=columns)\n",
    "bestseller_df['Published_date'] = pd.to_datetime(bestseller_df['Published_date'], format='%Y %m %d')"
   ]
  },
  {
   "cell_type": "code",
   "execution_count": 16,
   "metadata": {},
   "outputs": [],
   "source": [
    "bestseller_df.to_csv('bestseller.csv', encoding='CP949')"
   ]
  }
 ],
 "metadata": {
  "kernelspec": {
   "display_name": "Python 3",
   "language": "python",
   "name": "python3"
  },
  "language_info": {
   "codemirror_mode": {
    "name": "ipython",
    "version": 3
   },
   "file_extension": ".py",
   "mimetype": "text/x-python",
   "name": "python",
   "nbconvert_exporter": "python",
   "pygments_lexer": "ipython3",
   "version": "3.11.1"
  },
  "orig_nbformat": 4,
  "vscode": {
   "interpreter": {
    "hash": "3c4f1d380ec591ab9e44a7425913f70353e8b23ef4962a1509ad81b6808d322a"
   }
  }
 },
 "nbformat": 4,
 "nbformat_minor": 2
}
