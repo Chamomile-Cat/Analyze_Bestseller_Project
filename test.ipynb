{
 "cells": [
  {
   "cell_type": "code",
   "execution_count": 1,
   "metadata": {},
   "outputs": [],
   "source": [
    "# import modules\n",
    "import numpy as np\n",
    "import pandas as pd\n",
    "import matplotlib.pyplot as plt\n",
    "import seaborn as sns\n",
    "import scipy.stats as stats\n",
    "import scipy.special as special\n",
    "import time as time\n",
    "import datetime as dt\n",
    "import os\n",
    "\n",
    "from bs4 import BeautifulSoup\n",
    "import requests "
   ]
  },
  {
   "cell_type": "code",
   "execution_count": 9,
   "metadata": {},
   "outputs": [
    {
     "name": "stdout",
     "output_type": "stream",
     "text": [
      "\n",
      "\n",
      "<input name=\"ORD_GOODS_CNT\" type=\"hidden\" value=\"1\">\n",
      "<input id=\"ORD_GOODS_OPT_117188090\" name=\"ORD_GOODS_OPT\" type=\"hidden\" value='{\"goods_no\":117188090,\"goods_seq\":1,\"order_limit_yn\":\"N\",\"order_remain_count\":0,\"event_no\":0,\"add_cart_yn\":\"Y\",\"goods_state\":\"02\",\"order_limit_count\":0,\"resource_key\":\"01\",\"limit_age_yn\":\"N\",\"limit_age\":0,\"member_age\":0,\"goods_name\":\"김미경의 마흔 수업\",\"noint_quotamonth\":0,\"min_cnt\":0,\"max_cnt\":0,\"opt_salepr\":0,\"opt_yn\":\"N\",\"opt_inst_yn\":\"N\",\"flat_rate_yn\":null,\"rent_goods_yn\":\"N\",\"bookclue_yn\":null}'>\n",
      "</input></input>\n"
     ]
    }
   ],
   "source": [
    "# get bestseller links\n",
    "yes24_url = 'http://www.yes24.com/24/Category/BestSeller' \n",
    "result = requests.get(yes24_url)\n",
    "raw_html = BeautifulSoup(result.text, 'html.parser')\n",
    "\n",
    "a_html = raw_html.ol.input\n",
    "a_html.attrs\n",
    "\n",
    "for i in a_html.children:\n",
    "    print(i)"
   ]
  }
 ],
 "metadata": {
  "kernelspec": {
   "display_name": "Python 3",
   "language": "python",
   "name": "python3"
  },
  "language_info": {
   "codemirror_mode": {
    "name": "ipython",
    "version": 3
   },
   "file_extension": ".py",
   "mimetype": "text/x-python",
   "name": "python",
   "nbconvert_exporter": "python",
   "pygments_lexer": "ipython3",
   "version": "3.11.1"
  },
  "orig_nbformat": 4,
  "vscode": {
   "interpreter": {
    "hash": "3c4f1d380ec591ab9e44a7425913f70353e8b23ef4962a1509ad81b6808d322a"
   }
  }
 },
 "nbformat": 4,
 "nbformat_minor": 2
}
