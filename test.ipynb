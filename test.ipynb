{
 "cells": [
  {
   "cell_type": "code",
   "execution_count": 1,
   "metadata": {},
   "outputs": [],
   "source": [
    "# import modules\n",
    "import numpy as np\n",
    "import pandas as pd\n",
    "import matplotlib.pyplot as plt\n",
    "import seaborn as sns\n",
    "import scipy.stats as stats\n",
    "import scipy.special as special\n",
    "import time as time\n",
    "import datetime as dt\n",
    "import os\n",
    "\n",
    "from bs4 import BeautifulSoup\n",
    "import requests "
   ]
  },
  {
   "cell_type": "code",
   "execution_count": 5,
   "metadata": {},
   "outputs": [
    {
     "data": {
      "text/plain": [
       "{'name': 'ORD_GOODS_CHKBOX',\n",
       " 'type': 'checkbox',\n",
       " 'value': '',\n",
       " 'class': ['basic'],\n",
       " 'style': 'display:none'}"
      ]
     },
     "execution_count": 5,
     "metadata": {},
     "output_type": "execute_result"
    }
   ],
   "source": [
    "# get bestseller links\n",
    "yes24_url = 'http://www.yes24.com/24/Category/BestSeller' \n",
    "result = requests.get(yes24_url)\n",
    "raw_html = BeautifulSoup(result.text, 'html.parser')\n",
    "\n",
    "a_html = raw_html.ol.input\n",
    "a_html.attrs\n",
    "\n"
   ]
  }
 ],
 "metadata": {
  "kernelspec": {
   "display_name": "Python 3",
   "language": "python",
   "name": "python3"
  },
  "language_info": {
   "codemirror_mode": {
    "name": "ipython",
    "version": 3
   },
   "file_extension": ".py",
   "mimetype": "text/x-python",
   "name": "python",
   "nbconvert_exporter": "python",
   "pygments_lexer": "ipython3",
   "version": "3.11.1"
  },
  "orig_nbformat": 4,
  "vscode": {
   "interpreter": {
    "hash": "3c4f1d380ec591ab9e44a7425913f70353e8b23ef4962a1509ad81b6808d322a"
   }
  }
 },
 "nbformat": 4,
 "nbformat_minor": 2
}
